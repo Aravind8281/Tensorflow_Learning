{
  "nbformat": 4,
  "nbformat_minor": 0,
  "metadata": {
    "colab": {
      "provenance": [],
      "authorship_tag": "ABX9TyO3/hzTewXUwO8IR25rb6yd",
      "include_colab_link": true
    },
    "kernelspec": {
      "name": "python3",
      "display_name": "Python 3"
    },
    "language_info": {
      "name": "python"
    }
  },
  "cells": [
    {
      "cell_type": "markdown",
      "metadata": {
        "id": "view-in-github",
        "colab_type": "text"
      },
      "source": [
        "<a href=\"https://colab.research.google.com/github/Aravind8281/Tensorflow_Learning/blob/main/TensorflowMultiLayerPerceptron.ipynb\" target=\"_parent\"><img src=\"https://colab.research.google.com/assets/colab-badge.svg\" alt=\"Open In Colab\"/></a>"
      ]
    },
    {
      "cell_type": "code",
      "source": [
        "import tensorflow as tf\n",
        "mnist=tf.keras.datasets.mnist"
      ],
      "metadata": {
        "id": "VAj6vpSKQiGW"
      },
      "execution_count": 58,
      "outputs": []
    },
    {
      "cell_type": "code",
      "source": [
        "(train_images,train_labels),(test_images,test_labels)=mnist.load_data()\n",
        "train_images=train_images.reshape((60000,28*28)).astype('float32')/255.0\n",
        "test_images=test_images.reshape((10000,28*28)).astype('float32')/255.0\n",
        "train_labels=tf.keras.utils.to_categorical(train_labels)\n",
        "test_labels=tf.keras.utils.to_categorical(test_labels)"
      ],
      "metadata": {
        "id": "wOj85ENRQx4P"
      },
      "execution_count": 59,
      "outputs": []
    },
    {
      "cell_type": "code",
      "source": [
        "model=tf.keras.models.Sequential()\n",
        "model.add(tf.keras.layers.Dense(128,activation='relu',input_shape=(28*28,)))\n",
        "model.add(tf.keras.layers.Dropout(0.2))\n",
        "model.add(tf.keras.layers.Dense(64,activation='relu'))\n",
        "model.add(tf.keras.layers.Dropout(0.2))\n",
        "model.add(tf.keras.layers.Dense(10))\n",
        "tf.keras.utils.plot_model(model,to_file=\"model.png\")"
      ],
      "metadata": {
        "colab": {
          "base_uri": "https://localhost:8080/",
          "height": 564
        },
        "id": "7n1t1tpWReHJ",
        "outputId": "5d025244-504c-4568-ee73-de6bf35c42bf"
      },
      "execution_count": 60,
      "outputs": [
        {
          "output_type": "execute_result",
          "data": {
            "image/png": "[encoded data removed]",
            "text/plain": [
              "<IPython.core.display.Image object>"
            ]
          },
          "metadata": {},
          "execution_count": 60
        }
      ]
    },
    {
      "cell_type": "code",
      "source": [
        "model.compile(\n",
        "    optimizer='adam',\n",
        "    loss='categorical_crossentropy',\n",
        "    metrics=['accuracy']\n",
        ")"
      ],
      "metadata": {
        "id": "FtsGSqY7S42r"
      },
      "execution_count": 61,
      "outputs": []
    },
    {
      "cell_type": "code",
      "source": [
        "model.fit(train_images, train_labels, epochs=10, batch_size=64, validation_split=0.2)"
      ],
      "metadata": {
        "colab": {
          "base_uri": "https://localhost:8080/"
        },
        "id": "M_xrO3DpT8Zs",
        "outputId": "54a5707a-1db1-47c3-f3ff-dccb1f2e78c4"
      },
      "execution_count": 62,
      "outputs": [
        {
          "output_type": "stream",
          "name": "stdout",
          "text": [
            "Epoch 1/10\n",
            "750/750 [==============================] - 5s 5ms/step - loss: 8.0792 - accuracy: 0.1284 - val_loss: 6.8531 - val_accuracy: 0.1889\n",
            "Epoch 2/10\n",
            "750/750 [==============================] - 4s 5ms/step - loss: 8.4944 - accuracy: 0.1129 - val_loss: 9.0853 - val_accuracy: 0.1265\n",
            "Epoch 3/10\n",
            "750/750 [==============================] - 5s 6ms/step - loss: 8.4514 - accuracy: 0.1133 - val_loss: 6.5323 - val_accuracy: 0.1801\n",
            "Epoch 4/10\n",
            "750/750 [==============================] - 3s 5ms/step - loss: 8.1743 - accuracy: 0.1089 - val_loss: 7.9368 - val_accuracy: 0.1503\n",
            "Epoch 5/10\n",
            "750/750 [==============================] - 4s 5ms/step - loss: nan - accuracy: 0.1028 - val_loss: nan - val_accuracy: 0.0995\n",
            "Epoch 6/10\n",
            "750/750 [==============================] - 5s 6ms/step - loss: nan - accuracy: 0.0985 - val_loss: nan - val_accuracy: 0.0995\n",
            "Epoch 7/10\n",
            "750/750 [==============================] - 3s 5ms/step - loss: nan - accuracy: 0.0985 - val_loss: nan - val_accuracy: 0.0995\n",
            "Epoch 8/10\n",
            "750/750 [==============================] - 4s 5ms/step - loss: nan - accuracy: 0.0985 - val_loss: nan - val_accuracy: 0.0995\n",
            "Epoch 9/10\n",
            "750/750 [==============================] - 4s 5ms/step - loss: nan - accuracy: 0.0985 - val_loss: nan - val_accuracy: 0.0995\n",
            "Epoch 10/10\n",
            "750/750 [==============================] - 4s 6ms/step - loss: nan - accuracy: 0.0985 - val_loss: nan - val_accuracy: 0.0995\n"
          ]
        },
        {
          "output_type": "execute_result",
          "data": {
            "text/plain": [
              "<keras.src.callbacks.History at 0x7deb7a194520>"
            ]
          },
          "metadata": {},
          "execution_count": 62
        }
      ]
    },
    {
      "cell_type": "code",
      "source": [
        "test_loss,test_acc=model.evaluate(test_images,test_labels)\n",
        "print(test_acc)"
      ],
      "metadata": {
        "colab": {
          "base_uri": "https://localhost:8080/"
        },
        "id": "T9YrHehmUA1E",
        "outputId": "f914e558-ded5-4030-be03-302c4b7258a6"
      },
      "execution_count": 63,
      "outputs": [
        {
          "output_type": "stream",
          "name": "stdout",
          "text": [
            "313/313 [==============================] - 1s 2ms/step - loss: nan - accuracy: 0.0980\n",
            "0.09799999743700027\n"
          ]
        }
      ]
    },
    {
      "cell_type": "code",
      "source": [],
      "metadata": {
        "id": "Bs7z0fd1VKYN"
      },
      "execution_count": 63,
      "outputs": []
    }
  ]
}